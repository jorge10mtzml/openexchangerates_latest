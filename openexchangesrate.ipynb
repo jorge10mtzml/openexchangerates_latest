{
 "cells": [
  {
   "cell_type": "code",
   "execution_count": 3,
   "id": "d5de8429-50c4-4c7d-8aa6-a8a7642abbd5",
   "metadata": {
    "tags": []
   },
   "outputs": [],
   "source": [
    "import requests\n",
    "import pandas as pd\n",
    "\n",
    "app_id = '35794a2fd3654a10bccf8b261cd8095b'\n",
    "url = 'https://openexchangerates.org/api/latest.json?app_id=' + app_id + '&base=USD&'\n",
    "r = requests.get(url).json()\n",
    "\n",
    "def currency_per_usd(dxy):\n",
    "    \"\"\"\n",
    "    Regresa el valor de la moneda solicitada por cada usd\n",
    "    \"\"\"\n",
    "    l = list(r['rates'].items())\n",
    "    for x,y in l:\n",
    "        if x == dxy:\n",
    "            c = y\n",
    "    return c\n",
    "\n",
    "def exchange_rates_df(base):\n",
    "    \"\"\"\n",
    "    Regresa un Data Frame con el ultimo dato, tomando como base la seleccionada\n",
    "    \"\"\"\n",
    "    l = list(r['rates'].items())\n",
    "    new_l = []\n",
    "    b = currency_per_usd(base)\n",
    "    for x,y in l:\n",
    "        new_tup = (x, y / b)\n",
    "        new_l.append(new_tup)\n",
    "    return pd.DataFrame(new_l, columns = ['currency', 'value'])\n",
    "\n",
    "def convertion(curr, base, ammount):\n",
    "    \"\"\"\n",
    "    Convierte la cantidad de una moneda en términos de la otra.\n",
    "    \"\"\"\n",
    "    l = list(r['rates'].items())\n",
    "    curr = currency_per_usd(curr)\n",
    "    base = currency_per_usd(base)\n",
    "    if type(ammount) == int or float:\n",
    "        c = ammount * (curr / base)\n",
    "    else: \n",
    "        print('ERROR')\n",
    "    return c\n",
    "\n",
    "# Ejemplo de cada funciónÑ\n",
    "\n",
    "# 1) currency_per_usd():\n",
    "usd_mxn = currency_per_usd('MXN') # Arroja el ultimo dato del tipo de cambio USD/MXN.\n",
    "\n",
    "# 2) exchange_rates_df():\n",
    "mxn_base_df =  exchange_rates_df('MXN') # Data Frame de los tipos de cambio teniendo como base MXN = 1.\n",
    "\n",
    "# 3) convertion():\n",
    "wage_in_mxn = 40000\n",
    "wage_in_usd = convertion('USD', 'MXN', wage_in_mxn) # Concierte el salario de MXN a USD.\n"
   ]
  }
 ],
 "metadata": {
  "kernelspec": {
   "display_name": "Python 3 (ipykernel)",
   "language": "python",
   "name": "python3"
  },
  "language_info": {
   "codemirror_mode": {
    "name": "ipython",
    "version": 3
   },
   "file_extension": ".py",
   "mimetype": "text/x-python",
   "name": "python",
   "nbconvert_exporter": "python",
   "pygments_lexer": "ipython3",
   "version": "3.11.1"
  }
 },
 "nbformat": 4,
 "nbformat_minor": 5
}
